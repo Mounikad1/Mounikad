{
  "nbformat": 4,
  "nbformat_minor": 0,
  "metadata": {
    "colab": {
      "provenance": [],
      "authorship_tag": "ABX9TyOR7048PIcOQqIt/Llp3LV0",
      "include_colab_link": true
    },
    "kernelspec": {
      "name": "python3",
      "display_name": "Python 3"
    },
    "language_info": {
      "name": "python"
    }
  },
  "cells": [
    {
      "cell_type": "markdown",
      "metadata": {
        "id": "view-in-github",
        "colab_type": "text"
      },
      "source": [
        "<a href=\"https://colab.research.google.com/github/Mounikad1/Mounikad/blob/main/Traffic_Signs_Recognition.ipynb\" target=\"_parent\"><img src=\"https://colab.research.google.com/assets/colab-badge.svg\" alt=\"Open In Colab\"/></a>"
      ]
    },
    {
      "cell_type": "markdown",
      "source": [
        "## **Dataset Exploration**"
      ],
      "metadata": {
        "id": "9kcIDLxL3ysk"
      }
    },
    {
      "cell_type": "code",
      "execution_count": null,
      "metadata": {
        "id": "crWKUGDWYg6z"
      },
      "outputs": [],
      "source": [
        "import numpy as np\n",
        "import pandas as pd\n",
        "import matplotlib.pyplot as plt\n",
        "import cv2\n",
        "import tensorflow as tf\n",
        "from PIL import Image\n",
        "import os\n",
        "from sklearn.model_selection import train_test_split\n",
        "from keras.utils import to_categorical\n",
        "from keras.models import Sequential, load_model\n",
        "from keras.layers import Conv2D, MaxPool2D, Dense, Flatten, Dropout\n",
        "from keras.layers import Layer"
      ]
    },
    {
      "cell_type": "markdown",
      "source": [
        "## **Custom Feature Engineering Layer**"
      ],
      "metadata": {
        "id": "XBEPtag44qUs"
      }
    },
    {
      "cell_type": "code",
      "source": [
        "import tensorflow as tf\n",
        "\n",
        "class CustomFeatureLayer(tf.keras.layers.Layer):\n",
        "    def __init__(self):\n",
        "        super(CustomFeatureLayer, self).__init__()\n",
        "\n",
        "        # Define a custom filter for edge detection (3x3 filter, 3 input channels for RGB)\n",
        "        self.edge_filter = self.add_weight(\n",
        "            name='edge_filter',\n",
        "            shape=(3, 3, 3, 1),  # 3x3 filter, 3 input channels, 1 output channel\n",
        "            initializer=tf.keras.initializers.RandomNormal(),\n",
        "            trainable=True\n",
        "        )\n",
        "\n",
        "    def call(self, inputs):\n",
        "        # Apply edge detection using the convolution filter\n",
        "        edge_features = tf.nn.conv2d(inputs, self.edge_filter, strides=[1, 1, 1, 1], padding=\"SAME\")\n",
        "        return tf.concat([inputs, edge_features], axis=-1)  # Concatenate the original image and edge features\n",
        "\n",
        "    def compute_output_shape(self, input_shape):\n",
        "        # The output shape will have an additional channel dimension due to the concatenation\n",
        "        return (input_shape[0], input_shape[1], input_shape[2], input_shape[3] + 1)\n",
        "\n"
      ],
      "metadata": {
        "id": "RxkIklUk4lKY"
      },
      "execution_count": null,
      "outputs": []
    },
    {
      "cell_type": "code",
      "source": [
        "import os\n",
        "\n",
        "# List files in the current directory to verify the ZIP file is there\n",
        "print(os.listdir('/content'))\n"
      ],
      "metadata": {
        "colab": {
          "base_uri": "https://localhost:8080/"
        },
        "id": "6XEHvnhXMjre",
        "outputId": "1b2d4bfc-c1f3-4964-9b68-5ec99f1afdef"
      },
      "execution_count": null,
      "outputs": [
        {
          "output_type": "stream",
          "name": "stdout",
          "text": [
            "['.config', 'archive.zip', '.ipynb_checkpoints', 'sample_data']\n"
          ]
        }
      ]
    },
    {
      "cell_type": "code",
      "source": [
        "import zipfile\n",
        "import os\n",
        "\n",
        "# Path to the uploaded ZIP file\n",
        "zip_path = '/content/archive.zip'\n",
        "\n",
        "# Extract the ZIP file to the current directory\n",
        "with zipfile.ZipFile(zip_path, 'r') as zip_ref:\n",
        "    zip_ref.extractall('/content')  # Extract to /content directory\n",
        "\n",
        "# List files again to see extracted contents\n",
        "print(os.listdir('/content'))\n"
      ],
      "metadata": {
        "colab": {
          "base_uri": "https://localhost:8080/"
        },
        "id": "PuxdIXq7MrVk",
        "outputId": "d7f81c44-d122-4c4e-ba06-a59fbba25871"
      },
      "execution_count": null,
      "outputs": [
        {
          "output_type": "stream",
          "name": "stdout",
          "text": [
            "['.config', 'Train.csv', 'Train', 'meta', 'train', 'Meta.csv', 'Meta', 'Test', 'archive.zip', 'Test.csv', 'test', '.ipynb_checkpoints', 'sample_data']\n"
          ]
        }
      ]
    },
    {
      "cell_type": "code",
      "source": [
        "# Initialize lists to store data and labels\n",
        "data = []\n",
        "labels = []\n",
        "\n",
        "# Assuming 'train' is a folder containing images for classification\n",
        "dataset_path = '/content/Train'  # Change this if your dataset path is different\n",
        "classes = 43  # Number of traffic sign classes\n",
        "\n",
        "# Loop through each class folder and load images\n",
        "for i in range(classes):\n",
        "    class_path = os.path.join(dataset_path, str(i))\n",
        "    images = os.listdir(class_path)\n",
        "\n",
        "    for image_name in images:\n",
        "        try:\n",
        "            # Load and resize image\n",
        "            image = Image.open(os.path.join(class_path, image_name))\n",
        "            image = image.resize((30, 30))  # Resize to 30x30 (or any other preferred size)\n",
        "            image = np.array(image)  # Convert image to numpy array\n",
        "\n",
        "            data.append(image)\n",
        "            labels.append(i)  # The label for this image is the class number\n",
        "        except Exception as e:\n",
        "            print(f\"Error loading image {image_name}: {e}\")\n",
        "\n",
        "# Convert data and labels to numpy arrays\n",
        "data = np.array(data)\n",
        "labels = np.array(labels)"
      ],
      "metadata": {
        "id": "DEhWMCjdQZuW"
      },
      "execution_count": null,
      "outputs": []
    },
    {
      "cell_type": "code",
      "source": [
        "print(data.shape, labels.shape)\n",
        "#Splitting training and testing dataset\n",
        "X_train, X_test, y_train, y_test = train_test_split(data, labels, test_size=0.2, random_state=42)\n",
        "print(X_train.shape, X_test.shape, y_train.shape, y_test.shape)\n",
        "#Converting the labels into one hot encoding\n",
        "y_train = to_categorical(y_train, 43)\n",
        "y_test = to_categorical(y_test, 43)"
      ],
      "metadata": {
        "colab": {
          "base_uri": "https://localhost:8080/"
        },
        "id": "kRJJqQUSRqbr",
        "outputId": "04928c74-4348-48c7-bca5-e44cb87a628a"
      },
      "execution_count": null,
      "outputs": [
        {
          "output_type": "stream",
          "name": "stdout",
          "text": [
            "(39209, 30, 30, 3) (39209,)\n",
            "(31367, 30, 30, 3) (7842, 30, 30, 3) (31367,) (7842,)\n"
          ]
        }
      ]
    },
    {
      "cell_type": "code",
      "source": [
        "# Visualize some images from the dataset\n",
        "img = cv2.imread(\"/content/Meta/17.png\")\n",
        "plt.imshow(img)"
      ],
      "metadata": {
        "colab": {
          "base_uri": "https://localhost:8080/",
          "height": 450
        },
        "id": "cbVWPyptRy7c",
        "outputId": "5e76c98d-a2bb-43ff-d929-aa3d5492e783"
      },
      "execution_count": null,
      "outputs": [
        {
          "output_type": "execute_result",
          "data": {
            "text/plain": [
              "<matplotlib.image.AxesImage at 0x7f4784f3ec20>"
            ]
          },
          "metadata": {},
          "execution_count": 24
        },
        {
          "output_type": "display_data",
          "data": {
            "text/plain": [
              "<Figure size 640x480 with 1 Axes>"
            ],
            "image/png": "[encoded data removed]"
          },
          "metadata": {}
        }
      ]
    },
    {
      "cell_type": "markdown",
      "source": [
        "# **Build a CNN model**"
      ],
      "metadata": {
        "id": "4vEAEgFcRp3H"
      }
    },
    {
      "cell_type": "code",
      "source": [
        "# Model with Custom Feature Engineering\n",
        "model = Sequential()\n",
        "\n",
        "# Custom Feature Layer\n",
        "model.add(tf.keras.layers.InputLayer(input_shape=(30, 30, 3)))\n",
        "model.add(CustomFeatureLayer())"
      ],
      "metadata": {
        "id": "3xe_gXzRS_HI"
      },
      "execution_count": null,
      "outputs": []
    },
    {
      "cell_type": "code",
      "source": [
        "# CNN Layers\n",
        "model.add(Conv2D(filters=32, kernel_size=(5, 5), activation='relu'))\n",
        "model.add(Conv2D(filters=32, kernel_size=(5, 5), activation='relu'))\n",
        "model.add(MaxPool2D(pool_size=(2, 2)))\n",
        "model.add(Dropout(rate=0.25))\n",
        "model.add(Conv2D(filters=64, kernel_size=(3, 3), activation='relu'))\n",
        "model.add(Conv2D(filters=64, kernel_size=(3, 3), activation='relu'))\n",
        "model.add(MaxPool2D(pool_size=(2, 2)))\n",
        "model.add(Dropout(rate=0.25))\n",
        "\n",
        "# Flatten and Fully Connected Layers\n",
        "model.add(Flatten())\n",
        "model.add(Dense(256, activation='relu'))\n",
        "model.add(Dropout(rate=0.5))\n",
        "model.add(Dense(43, activation='softmax'))"
      ],
      "metadata": {
        "id": "-wXtPDcQTvGs"
      },
      "execution_count": null,
      "outputs": []
    },
    {
      "cell_type": "code",
      "source": [
        "# Compile the Model\n",
        "model.compile(loss='categorical_crossentropy', optimizer='adam', metrics=['accuracy'])\n"
      ],
      "metadata": {
        "id": "kyodg5GqT9eQ"
      },
      "execution_count": null,
      "outputs": []
    },
    {
      "cell_type": "markdown",
      "source": [
        "# **Train the Model**"
      ],
      "metadata": {
        "id": "drcfms96RY1B"
      }
    },
    {
      "cell_type": "code",
      "source": [
        "# Train the Model\n",
        "epochs = 15\n",
        "history = model.fit(X_train, y_train, batch_size=32, epochs=epochs, validation_data=(X_test, y_test))\n",
        "\n",
        "# Save the Model\n",
        "model.save(\"traffic_classifier_with_custom_features.h5\")"
      ],
      "metadata": {
        "colab": {
          "base_uri": "https://localhost:8080/"
        },
        "id": "CnzMWDVUUGJA",
        "outputId": "62338806-a038-4074-b163-c3262a3d080d"
      },
      "execution_count": null,
      "outputs": [
        {
          "output_type": "stream",
          "name": "stdout",
          "text": [
            "Epoch 1/15\n",
            "\u001b[1m981/981\u001b[0m \u001b[32m━━━━━━━━━━━━━━━━━━━━\u001b[0m\u001b[37m\u001b[0m \u001b[1m166s\u001b[0m 165ms/step - accuracy: 0.3531 - loss: 2.9359 - val_accuracy: 0.9046 - val_loss: 0.4183\n",
            "Epoch 2/15\n",
            "\u001b[1m981/981\u001b[0m \u001b[32m━━━━━━━━━━━━━━━━━━━━\u001b[0m\u001b[37m\u001b[0m \u001b[1m203s\u001b[0m 166ms/step - accuracy: 0.7969 - loss: 0.6740 - val_accuracy: 0.9550 - val_loss: 0.1793\n",
            "Epoch 3/15\n",
            "\u001b[1m981/981\u001b[0m \u001b[32m━━━━━━━━━━━━━━━━━━━━\u001b[0m\u001b[37m\u001b[0m \u001b[1m166s\u001b[0m 169ms/step - accuracy: 0.8784 - loss: 0.4144 - val_accuracy: 0.9712 - val_loss: 0.1187\n",
            "Epoch 4/15\n",
            "\u001b[1m981/981\u001b[0m \u001b[32m━━━━━━━━━━━━━━━━━━━━\u001b[0m\u001b[37m\u001b[0m \u001b[1m165s\u001b[0m 168ms/step - accuracy: 0.9116 - loss: 0.3124 - val_accuracy: 0.9721 - val_loss: 0.0966\n",
            "Epoch 5/15\n",
            "\u001b[1m981/981\u001b[0m \u001b[32m━━━━━━━━━━━━━━━━━━━━\u001b[0m\u001b[37m\u001b[0m \u001b[1m161s\u001b[0m 164ms/step - accuracy: 0.9180 - loss: 0.2909 - val_accuracy: 0.9744 - val_loss: 0.0849\n",
            "Epoch 6/15\n",
            "\u001b[1m981/981\u001b[0m \u001b[32m━━━━━━━━━━━━━━━━━━━━\u001b[0m\u001b[37m\u001b[0m \u001b[1m203s\u001b[0m 165ms/step - accuracy: 0.9315 - loss: 0.2478 - val_accuracy: 0.9786 - val_loss: 0.0798\n",
            "Epoch 7/15\n",
            "\u001b[1m981/981\u001b[0m \u001b[32m━━━━━━━━━━━━━━━━━━━━\u001b[0m\u001b[37m\u001b[0m \u001b[1m166s\u001b[0m 169ms/step - accuracy: 0.9377 - loss: 0.2184 - val_accuracy: 0.9741 - val_loss: 0.0918\n",
            "Epoch 8/15\n",
            "\u001b[1m981/981\u001b[0m \u001b[32m━━━━━━━━━━━━━━━━━━━━\u001b[0m\u001b[37m\u001b[0m \u001b[1m203s\u001b[0m 170ms/step - accuracy: 0.9407 - loss: 0.2087 - val_accuracy: 0.9773 - val_loss: 0.0787\n",
            "Epoch 9/15\n",
            "\u001b[1m981/981\u001b[0m \u001b[32m━━━━━━━━━━━━━━━━━━━━\u001b[0m\u001b[37m\u001b[0m \u001b[1m163s\u001b[0m 166ms/step - accuracy: 0.9455 - loss: 0.1960 - val_accuracy: 0.9839 - val_loss: 0.0595\n",
            "Epoch 10/15\n",
            "\u001b[1m981/981\u001b[0m \u001b[32m━━━━━━━━━━━━━━━━━━━━\u001b[0m\u001b[37m\u001b[0m \u001b[1m164s\u001b[0m 167ms/step - accuracy: 0.9446 - loss: 0.2039 - val_accuracy: 0.9871 - val_loss: 0.0501\n",
            "Epoch 11/15\n",
            "\u001b[1m981/981\u001b[0m \u001b[32m━━━━━━━━━━━━━━━━━━━━\u001b[0m\u001b[37m\u001b[0m \u001b[1m213s\u001b[0m 178ms/step - accuracy: 0.9447 - loss: 0.2046 - val_accuracy: 0.9813 - val_loss: 0.0746\n",
            "Epoch 12/15\n",
            "\u001b[1m981/981\u001b[0m \u001b[32m━━━━━━━━━━━━━━━━━━━━\u001b[0m\u001b[37m\u001b[0m \u001b[1m187s\u001b[0m 163ms/step - accuracy: 0.9473 - loss: 0.2058 - val_accuracy: 0.9878 - val_loss: 0.0527\n",
            "Epoch 13/15\n",
            "\u001b[1m981/981\u001b[0m \u001b[32m━━━━━━━━━━━━━━━━━━━━\u001b[0m\u001b[37m\u001b[0m \u001b[1m157s\u001b[0m 160ms/step - accuracy: 0.9527 - loss: 0.1816 - val_accuracy: 0.9874 - val_loss: 0.0518\n",
            "Epoch 14/15\n",
            "\u001b[1m981/981\u001b[0m \u001b[32m━━━━━━━━━━━━━━━━━━━━\u001b[0m\u001b[37m\u001b[0m \u001b[1m202s\u001b[0m 161ms/step - accuracy: 0.9503 - loss: 0.1947 - val_accuracy: 0.9797 - val_loss: 0.0770\n",
            "Epoch 15/15\n",
            "\u001b[1m981/981\u001b[0m \u001b[32m━━━━━━━━━━━━━━━━━━━━\u001b[0m\u001b[37m\u001b[0m \u001b[1m158s\u001b[0m 161ms/step - accuracy: 0.9485 - loss: 0.2099 - val_accuracy: 0.9783 - val_loss: 0.0811\n"
          ]
        },
        {
          "output_type": "stream",
          "name": "stderr",
          "text": [
            "WARNING:absl:You are saving your model as an HDF5 file via `model.save()` or `keras.saving.save_model(model)`. This file format is considered legacy. We recommend using instead the native Keras format, e.g. `model.save('my_model.keras')` or `keras.saving.save_model(model, 'my_model.keras')`. \n"
          ]
        }
      ]
    },
    {
      "cell_type": "code",
      "source": [
        "# Plotting Accuracy and Loss\n",
        "plt.figure(0)\n",
        "plt.plot(history.history['accuracy'], label='training accuracy')\n",
        "plt.plot(history.history['val_accuracy'], label='validation accuracy')\n",
        "plt.title('Accuracy')\n",
        "plt.xlabel('Epochs')\n",
        "plt.ylabel('Accuracy')\n",
        "plt.legend()\n",
        "plt.show()\n",
        "\n",
        "plt.figure(1)\n",
        "plt.plot(history.history['loss'], label='training loss')\n",
        "plt.plot(history.history['val_loss'], label='validation loss')\n",
        "plt.title('Loss')\n",
        "plt.xlabel('Epochs')\n",
        "plt.ylabel('Loss')\n",
        "plt.legend()\n",
        "plt.show()\n"
      ],
      "metadata": {
        "colab": {
          "base_uri": "https://localhost:8080/",
          "height": 927
        },
        "id": "CcL9_uOkew4G",
        "outputId": "19b82116-c9ef-4897-e9b3-2e3bb64263fe"
      },
      "execution_count": null,
      "outputs": [
        {
          "output_type": "display_data",
          "data": {
            "text/plain": [
              "<Figure size 640x480 with 1 Axes>"
            ],
            "image/png": "[encoded data removed]"
          },
          "metadata": {}
        },
        {
          "output_type": "display_data",
          "data": {
            "text/plain": [
              "<Figure size 640x480 with 1 Axes>"
            ],
            "image/png": "[encoded data removed]"
          },
          "metadata": {}
        }
      ]
    },
    {
      "cell_type": "markdown",
      "source": [
        "## **Test the model with test dataset**"
      ],
      "metadata": {
        "id": "M9dHB1eufJaA"
      }
    },
    {
      "cell_type": "code",
      "source": [
        "\n",
        "# Test the Model\n",
        "y_test_df = pd.read_csv('Test.csv')\n",
        "labels = y_test_df[\"ClassId\"].values\n",
        "imgs = y_test_df[\"Path\"].values\n",
        "\n",
        "# Prepare test data\n",
        "data = []\n",
        "for img in imgs:\n",
        "    image = Image.open(img)\n",
        "    image = image.resize((30, 30))\n",
        "    data.append(np.array(image))\n",
        "\n",
        "X_test = np.array(data)\n",
        "\n",
        "\n",
        "\n",
        "\n",
        "# Predict classes\n",
        "predictions = model.predict(X_test)\n",
        "pred = np.argmax(predictions, axis=1)  # Convert probabilities to class labels\n",
        "\n",
        "# Calculate Accuracy\n",
        "from sklearn.metrics import accuracy_score\n",
        "print(\"Test Accuracy:\", accuracy_score(labels, pred))\n"
      ],
      "metadata": {
        "colab": {
          "base_uri": "https://localhost:8080/"
        },
        "id": "-nf8ZC4ffMs7",
        "outputId": "b9afc886-3d67-485f-8d7d-61c7de740dff"
      },
      "execution_count": null,
      "outputs": [
        {
          "output_type": "stream",
          "name": "stdout",
          "text": [
            "\u001b[1m395/395\u001b[0m \u001b[32m━━━━━━━━━━━━━━━━━━━━\u001b[0m\u001b[37m\u001b[0m \u001b[1m17s\u001b[0m 42ms/step\n",
            "Test Accuracy: 0.9369754552652415\n"
          ]
        }
      ]
    },
    {
      "cell_type": "code",
      "source": [
        "from google.colab import files\n",
        "from PIL import Image\n",
        "\n",
        "# Dictionary to map class IDs to traffic sign names\n",
        "class_names = {\n",
        "    0: \"Speed limit (20km/h)\",\n",
        "    1: \"Speed limit (30km/h)\",\n",
        "    2: \"Speed limit (50km/h)\",\n",
        "    3: \"Speed limit (60km/h)\",\n",
        "    4: \"Speed limit (70km/h)\",\n",
        "    5: \"Speed limit (80km/h)\",\n",
        "    6: \"End of speed limit (80km/h)\",\n",
        "    7: \"Speed limit (100km/h)\",\n",
        "    8: \"Speed limit (120km/h)\",\n",
        "    9: \"No passing\",\n",
        "    10: \"No passing for vehicles over 3.5 metric tons\",\n",
        "    11: \"Right-of-way at the next intersection\",\n",
        "    12: \"Priority road\",\n",
        "    13: \"Yield\",\n",
        "    14: \"Stop\",\n",
        "    15: \"No vehicles\",\n",
        "    16: \"Vehicles over 3.5 metric tons prohibited\",\n",
        "    17: \"No entry\",\n",
        "    18: \"General caution\",\n",
        "    19: \"Dangerous curve to the left\",\n",
        "    20: \"Dangerous curve to the right\",\n",
        "    21: \"Double curve\",\n",
        "    22: \"Bumpy road\",\n",
        "    23: \"Slippery road\",\n",
        "    24: \"Road narrows on the right\",\n",
        "    25: \"Road work\",\n",
        "    26: \"Traffic signals\",\n",
        "    27: \"Pedestrians\",\n",
        "    28: \"Children crossing\",\n",
        "    29: \"Bicycles crossing\",\n",
        "    30: \"Beware of ice/snow\",\n",
        "    31: \"Wild animals crossing\",\n",
        "    32: \"End of all speed and passing limits\",\n",
        "    33: \"Turn right ahead\",\n",
        "    34: \"Turn left ahead\",\n",
        "    35: \"Ahead only\",\n",
        "    36: \"Go straight or right\",\n",
        "    37: \"Go straight or left\",\n",
        "    38: \"Keep right\",\n",
        "    39: \"Keep left\",\n",
        "    40: \"Roundabout mandatory\",\n",
        "    41: \"End of no passing\",\n",
        "    42: \"End of no passing by vehicles over 3.5 metric tons\"\n",
        "}\n",
        "\n",
        "# Function to predict a single uploaded image\n",
        "def predict_image(image_path):\n",
        "    # Load and preprocess the image\n",
        "    image = Image.open(image_path).resize((30, 30))  # Resize to match model input size\n",
        "    image_array = np.array(image).reshape(1, 30, 30, 3)  # Reshape to model input dimensions\n",
        "    #image_array = image_array / 255.0  # Normalize if necessary\n",
        "\n",
        "    # Make prediction\n",
        "    prediction = model.predict(image_array)\n",
        "    predicted_class = np.argmax(prediction)\n",
        "\n",
        "    # Get the class name\n",
        "    class_name = class_names.get(predicted_class, \"Unknown Class\")\n",
        "\n",
        "    # Display the result\n",
        "    plt.imshow(image)\n",
        "    plt.title(f\"Predicted: {class_name}\")\n",
        "    plt.axis('off')\n",
        "    plt.show()\n",
        "\n",
        "# Allow users to upload an image\n",
        "print(\"Upload an image to classify:\")\n",
        "uploaded = files.upload()\n",
        "for filename in uploaded.keys():\n",
        "    predict_image(filename)\n",
        "\n"
      ],
      "metadata": {
        "colab": {
          "base_uri": "https://localhost:8080/",
          "height": 519
        },
        "id": "UtpyOn9mjllB",
        "outputId": "aaf898c6-69f9-4309-ab99-b1d5684bc141"
      },
      "execution_count": null,
      "outputs": [
        {
          "output_type": "stream",
          "name": "stdout",
          "text": [
            "Upload an image to classify:\n"
          ]
        },
        {
          "output_type": "display_data",
          "data": {
            "text/plain": [
              "<IPython.core.display.HTML object>"
            ],
            "text/html": [
              "\n",
              "     <input type=\"file\" id=\"files-e0057b2d-f2e7-4b1a-b97e-e0016246a1f0\" name=\"files[]\" multiple disabled\n",
              "        style=\"border:none\" />\n",
              "     <output id=\"result-e0057b2d-f2e7-4b1a-b97e-e0016246a1f0\">\n",
              "      Upload widget is only available when the cell has been executed in the\n",
              "      current browser session. Please rerun this cell to enable.\n",
              "      </output>\n",
              "      <script>// Copyright 2017 Google LLC\n",
              "//\n",
              "// Licensed under the Apache License, Version 2.0 (the \"License\");\n",
              "// you may not use this file except in compliance with the License.\n",
              "// You may obtain a copy of the License at\n",
              "//\n",
              "//      http://www.apache.org/licenses/LICENSE-2.0\n",
              "//\n",
              "// Unless required by applicable law or agreed to in writing, software\n",
              "// distributed under the License is distributed on an \"AS IS\" BASIS,\n",
              "// WITHOUT WARRANTIES OR CONDITIONS OF ANY KIND, either express or implied.\n",
              "// See the License for the specific language governing permissions and\n",
              "// limitations under the License.\n",
              "\n",
              "/**\n",
              " * @fileoverview Helpers for google.colab Python module.\n",
              " */\n",
              "(function(scope) {\n",
              "function span(text, styleAttributes = {}) {\n",
              "  const element = document.createElement('span');\n",
              "  element.textContent = text;\n",
              "  for (const key of Object.keys(styleAttributes)) {\n",
              "    element.style[key] = styleAttributes[key];\n",
              "  }\n",
              "  return element;\n",
              "}\n",
              "\n",
              "// Max number of bytes which will be uploaded at a time.\n",
              "const MAX_PAYLOAD_SIZE = 100 * 1024;\n",
              "\n",
              "function _uploadFiles(inputId, outputId) {\n",
              "  const steps = uploadFilesStep(inputId, outputId);\n",
              "  const outputElement = document.getElementById(outputId);\n",
              "  // Cache steps on the outputElement to make it available for the next call\n",
              "  // to uploadFilesContinue from Python.\n",
              "  outputElement.steps = steps;\n",
              "\n",
              "  return _uploadFilesContinue(outputId);\n",
              "}\n",
              "\n",
              "// This is roughly an async generator (not supported in the browser yet),\n",
              "// where there are multiple asynchronous steps and the Python side is going\n",
              "// to poll for completion of each step.\n",
              "// This uses a Promise to block the python side on completion of each step,\n",
              "// then passes the result of the previous step as the input to the next step.\n",
              "function _uploadFilesContinue(outputId) {\n",
              "  const outputElement = document.getElementById(outputId);\n",
              "  const steps = outputElement.steps;\n",
              "\n",
              "  const next = steps.next(outputElement.lastPromiseValue);\n",
              "  return Promise.resolve(next.value.promise).then((value) => {\n",
              "    // Cache the last promise value to make it available to the next\n",
              "    // step of the generator.\n",
              "    outputElement.lastPromiseValue = value;\n",
              "    return next.value.response;\n",
              "  });\n",
              "}\n",
              "\n",
              "/**\n",
              " * Generator function which is called between each async step of the upload\n",
              " * process.\n",
              " * @param {string} inputId Element ID of the input file picker element.\n",
              " * @param {string} outputId Element ID of the output display.\n",
              " * @return {!Iterable<!Object>} Iterable of next steps.\n",
              " */\n",
              "function* uploadFilesStep(inputId, outputId) {\n",
              "  const inputElement = document.getElementById(inputId);\n",
              "  inputElement.disabled = false;\n",
              "\n",
              "  const outputElement = document.getElementById(outputId);\n",
              "  outputElement.innerHTML = '';\n",
              "\n",
              "  const pickedPromise = new Promise((resolve) => {\n",
              "    inputElement.addEventListener('change', (e) => {\n",
              "      resolve(e.target.files);\n",
              "    });\n",
              "  });\n",
              "\n",
              "  const cancel = document.createElement('button');\n",
              "  inputElement.parentElement.appendChild(cancel);\n",
              "  cancel.textContent = 'Cancel upload';\n",
              "  const cancelPromise = new Promise((resolve) => {\n",
              "    cancel.onclick = () => {\n",
              "      resolve(null);\n",
              "    };\n",
              "  });\n",
              "\n",
              "  // Wait for the user to pick the files.\n",
              "  const files = yield {\n",
              "    promise: Promise.race([pickedPromise, cancelPromise]),\n",
              "    response: {\n",
              "      action: 'starting',\n",
              "    }\n",
              "  };\n",
              "\n",
              "  cancel.remove();\n",
              "\n",
              "  // Disable the input element since further picks are not allowed.\n",
              "  inputElement.disabled = true;\n",
              "\n",
              "  if (!files) {\n",
              "    return {\n",
              "      response: {\n",
              "        action: 'complete',\n",
              "      }\n",
              "    };\n",
              "  }\n",
              "\n",
              "  for (const file of files) {\n",
              "    const li = document.createElement('li');\n",
              "    li.append(span(file.name, {fontWeight: 'bold'}));\n",
              "    li.append(span(\n",
              "        `(${file.type || 'n/a'}) - ${file.size} bytes, ` +\n",
              "        `last modified: ${\n",
              "            file.lastModifiedDate ? file.lastModifiedDate.toLocaleDateString() :\n",
              "                                    'n/a'} - `));\n",
              "    const percent = span('0% done');\n",
              "    li.appendChild(percent);\n",
              "\n",
              "    outputElement.appendChild(li);\n",
              "\n",
              "    const fileDataPromise = new Promise((resolve) => {\n",
              "      const reader = new FileReader();\n",
              "      reader.onload = (e) => {\n",
              "        resolve(e.target.result);\n",
              "      };\n",
              "      reader.readAsArrayBuffer(file);\n",
              "    });\n",
              "    // Wait for the data to be ready.\n",
              "    let fileData = yield {\n",
              "      promise: fileDataPromise,\n",
              "      response: {\n",
              "        action: 'continue',\n",
              "      }\n",
              "    };\n",
              "\n",
              "    // Use a chunked sending to avoid message size limits. See b/62115660.\n",
              "    let position = 0;\n",
              "    do {\n",
              "      const length = Math.min(fileData.byteLength - position, MAX_PAYLOAD_SIZE);\n",
              "      const chunk = new Uint8Array(fileData, position, length);\n",
              "      position += length;\n",
              "\n",
              "      const base64 = btoa(String.fromCharCode.apply(null, chunk));\n",
              "      yield {\n",
              "        response: {\n",
              "          action: 'append',\n",
              "          file: file.name,\n",
              "          data: base64,\n",
              "        },\n",
              "      };\n",
              "\n",
              "      let percentDone = fileData.byteLength === 0 ?\n",
              "          100 :\n",
              "          Math.round((position / fileData.byteLength) * 100);\n",
              "      percent.textContent = `${percentDone}% done`;\n",
              "\n",
              "    } while (position < fileData.byteLength);\n",
              "  }\n",
              "\n",
              "  // All done.\n",
              "  yield {\n",
              "    response: {\n",
              "      action: 'complete',\n",
              "    }\n",
              "  };\n",
              "}\n",
              "\n",
              "scope.google = scope.google || {};\n",
              "scope.google.colab = scope.google.colab || {};\n",
              "scope.google.colab._files = {\n",
              "  _uploadFiles,\n",
              "  _uploadFilesContinue,\n",
              "};\n",
              "})(self);\n",
              "</script> "
            ]
          },
          "metadata": {}
        },
        {
          "output_type": "stream",
          "name": "stdout",
          "text": [
            "Saving 12341.png to 12341.png\n",
            "\u001b[1m1/1\u001b[0m \u001b[32m━━━━━━━━━━━━━━━━━━━━\u001b[0m\u001b[37m\u001b[0m \u001b[1m0s\u001b[0m 23ms/step\n"
          ]
        },
        {
          "output_type": "display_data",
          "data": {
            "text/plain": [
              "<Figure size 640x480 with 1 Axes>"
            ],
            "image/png": "[encoded data removed]"
          },
          "metadata": {}
        }
      ]
    },
    {
      "cell_type": "code",
      "source": [
        "from google.colab import drive\n",
        "drive.mount('/content/drive')\n"
      ],
      "metadata": {
        "colab": {
          "base_uri": "https://localhost:8080/"
        },
        "id": "n4c7f0Tm4uQd",
        "outputId": "c007d364-af32-449d-b3f5-38d683e7e594"
      },
      "execution_count": null,
      "outputs": [
        {
          "output_type": "stream",
          "name": "stdout",
          "text": [
            "Mounted at /content/drive\n"
          ]
        }
      ]
    },
    {
      "cell_type": "code",
      "source": [
        "model.save('/content/drive/My Drive/traffic_classifier_with_custom_features.keras')\n",
        "\n"
      ],
      "metadata": {
        "id": "CbT5g5R942Bn"
      },
      "execution_count": null,
      "outputs": []
    }
  ]
}